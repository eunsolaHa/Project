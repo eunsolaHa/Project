{
 "cells": [
  {
   "cell_type": "markdown",
   "metadata": {},
   "source": [
    "# ResNet 모델 구축 과정"
   ]
  },
  {
   "cell_type": "markdown",
   "metadata": {},
   "source": [
    "### 1. 필요한 모듈 불러오기"
   ]
  },
  {
   "cell_type": "code",
   "execution_count": 1,
   "metadata": {},
   "outputs": [],
   "source": [
    "# 필요한 모듈 정리\n",
    "\n",
    "from csv import reader\n",
    "import os\n",
    "from tqdm import tqdm\n",
    "from PIL import Image\n",
    "from psutil import virtual_memory\n",
    "import numpy as np\n",
    "import tensorflow as tf\n",
    "from gc import collect\n",
    "from sklearn.model_selection import train_test_split\n",
    "import pandas as pd"
   ]
  },
  {
   "cell_type": "markdown",
   "metadata": {},
   "source": [
    "### 2. 필요한 전처리 함수들 불러오기"
   ]
  },
  {
   "cell_type": "code",
   "execution_count": 2,
   "metadata": {},
   "outputs": [],
   "source": [
    "# 메모리 체크 함수\n",
    "\n",
    "def check_memory():\n",
    "\n",
    "    # 현재 메모리 사용량 확인\n",
    "    memory_usage = virtual_memory().used\n",
    "\n",
    "    # 기가바이트로 치환\n",
    "    memory_usage_mb = memory_usage / 1024 / 1024 /1024\n",
    "\n",
    "    print(f\"Current memory usage: {memory_usage_mb:.2f} GB\")"
   ]
  },
  {
   "cell_type": "code",
   "execution_count": 3,
   "metadata": {},
   "outputs": [],
   "source": [
    "# 공통 활용 데이터 불러오기 : print_path의 경로명을 반드시 printed_path로 받아오기\n",
    "\n",
    "def get_consonants_and_path():\n",
    "\n",
    "    # 초/중/종성\n",
    "    cho = ['ㄱ', 'ㄲ', 'ㄴ', 'ㄷ', 'ㄸ', 'ㄹ', 'ㅁ', 'ㅂ', 'ㅃ', 'ㅅ', 'ㅆ', 'ㅇ', 'ㅈ', 'ㅉ', 'ㅊ', 'ㅋ', 'ㅌ', 'ㅍ', 'ㅎ', '']\n",
    "    jung = ['ㅏ', 'ㅐ', 'ㅑ', 'ㅒ', 'ㅓ', 'ㅔ', 'ㅕ', 'ㅖ', 'ㅗ', 'ㅘ', 'ㅙ', 'ㅚ', 'ㅛ', 'ㅜ', 'ㅝ', 'ㅞ', 'ㅟ', 'ㅠ', 'ㅡ', 'ㅢ', 'ㅣ', '']\n",
    "    jong = ['ㄱ', 'ㄲ', 'ㄳ', 'ㄴ', 'ㄵ', 'ㄶ', 'ㄷ', 'ㄹ', 'ㄺ', 'ㄻ', 'ㄼ', 'ㄽ', 'ㄾ', 'ㄿ', 'ㅀ', 'ㅁ', 'ㅂ', 'ㅄ', 'ㅅ', 'ㅆ', 'ㅇ', 'ㅈ', 'ㅊ', 'ㅋ', 'ㅌ', 'ㅍ', 'ㅎ', '']\n",
    "\n",
    "    # 데이터 경로\n",
    "\n",
    "    # 인쇄체\n",
    "    print_path = 'D:\\yoon_data\\korean_consonant_project\\Korean_letters\\printed\\syllable'\n",
    "\n",
    "\n",
    "    # # 필기체 : 당장은 사용하지 않을 것\n",
    "    # hand_path_01 = 'D:\\yoon_data\\korean_consonant_project\\Korean_letters\\handwritten\\syllable_01'\n",
    "    # hand_path_02 = 'D:\\yoon_data\\korean_consonant_project\\Korean_letters\\handwritten\\syllable_02'\n",
    "\n",
    "    # 초/중/종성, 인쇄/필기 경로(3개)\n",
    "    return cho, jung, jong, print_path"
   ]
  },
  {
   "cell_type": "code",
   "execution_count": 4,
   "metadata": {},
   "outputs": [],
   "source": [
    "# 최종 파일목록 및 레이블 불러오기 함수 : 반드시 변수명을 new_printed_file_labels, new_handwritten_file_labels로 받아오기\n",
    "\n",
    "# csv 파일 넣은\n",
    "def name_and_label_reader(filename_1): # filename_2 : 필기체 사용 시 활용해보기\n",
    "    \n",
    "    # 만들어낸 csv 파일 읽기 : 인쇄체\n",
    "    with open(filename_1, 'r', newline='') as file:\n",
    "        readings = reader(file)\n",
    "        my_column = []\n",
    "        for row in readings:\n",
    "            my_column.append([row[0], row[1], row[2], row[3]])\n",
    "\n",
    "\n",
    "    file.close()\n",
    "    printed_file_labels = my_column[1:]\n",
    "\n",
    "    # # 만들어낸 csv 파일 읽기 : \n",
    "    # with open(filename_2, 'r', newline='') as file:\n",
    "    #     reader = reader(file)\n",
    "    #     my_column = []\n",
    "    #     for row in reader:\n",
    "    #         my_column.append([row[0], row[1]])\n",
    "\n",
    "\n",
    "    # file.close()\n",
    "    # handwritten_file_labels = my_column[1:]\n",
    "\n",
    "    # 기존의 new_printed_file_labels, new_handwritten_file_labels를 도출\n",
    "    return printed_file_labels"
   ]
  },
  {
   "cell_type": "code",
   "execution_count": 5,
   "metadata": {},
   "outputs": [],
   "source": [
    "# 인쇄체 훈련 및 테스트 데이터 (목록) 불러오기 : 전이학습과 셔플링을 위한 코드\n",
    "# 필기체용 함수는 'Yoon_Preprocessing.py'에서 찾아서 쓰기\n",
    "\n",
    "def get_printed_data_and_labels(start_idx, end_idx):\n",
    "\n",
    "    # 이미지 및 레이블 위한 데이터 리스트 만들기\n",
    "    printed_images = []\n",
    "    printed_labels = []\n",
    "\n",
    "    # 인쇄체 파일 목록 반복문 실행\n",
    "    for idx in tqdm(range(start_idx, len(new_printed_file_labels))):\n",
    "\n",
    "        # 이미지 파일 결정\n",
    "        image_file = new_printed_file_labels[idx][0]\n",
    "        image_label_1 = int(new_printed_file_labels[idx][1])\n",
    "        image_label_2 = int(new_printed_file_labels[idx][2])\n",
    "        image_label_3 = int(new_printed_file_labels[idx][3])\n",
    "\n",
    "        # 이미지 열기\n",
    "        image = Image.open(os.path.join(printed_path, image_file))\n",
    "\n",
    "        # 이미지 재조정\n",
    "        image = image.resize((128, 128))\n",
    "\n",
    "        # 넘파이 배열로 이미지 변환\n",
    "        image_array = np.asarray(image)\n",
    "\n",
    "        # 픽셀값 표준화\n",
    "        image_array = image_array.astype('float32') / 255.0\n",
    "\n",
    "        # 새로운 리스트에 데이터를 넣기\n",
    "        printed_images.append(image_array)\n",
    "        printed_labels.append([image_label_1, image_label_2, image_label_3])\n",
    "\n",
    "        # 계속해서 메모리 문제를 겪으므로 5만 개의 데이터로만 실행해보기로 함\n",
    "        if idx == end_idx-1:\n",
    "            break\n",
    "\n",
    "    # 리스트를 다시 넘파이 배열로 변환\n",
    "    X = np.array(printed_images)\n",
    "    y = np.array(printed_labels)\n",
    "\n",
    "    # 데이터를 훈련, 테스트 데이터셋으로 나누기\n",
    "    # 같은 random_state 시드를 적용한다면 같은 데이터셋을 얻을 것이므로 걱정하지 않아도 된다.\n",
    "    X_train, X_test, y_train, y_test = train_test_split(X, y, test_size=0.2, random_state=42)\n",
    "\n",
    "    # 행, 열 바꾸기\n",
    "    y_train_t = np.transpose(y_train)\n",
    "    y_test_t = np.transpose(y_test)\n",
    "\n",
    "    # 모델 학습을 위한 원핫 인코딩 데이터 만들기\n",
    "    y1 = y_train_t[0]\n",
    "    y1_one_hot = tf.keras.utils.to_categorical(y1, num_classes=20)\n",
    "    y2 = y_train_t[1]\n",
    "    y2_one_hot = tf.keras.utils.to_categorical(y2, num_classes=22)\n",
    "    y3 = y_train_t[2]\n",
    "    y3_one_hot = tf.keras.utils.to_categorical(y3, num_classes=28)\n",
    "\n",
    "    y1 = y_test_t[0]\n",
    "    y1_one_hot_test = tf.keras.utils.to_categorical(y1, num_classes=20)\n",
    "    y2 = y_test_t[1]\n",
    "    y2_one_hot_test = tf.keras.utils.to_categorical(y2, num_classes=22)\n",
    "    y3 = y_test_t[2]\n",
    "    y3_one_hot_test = tf.keras.utils.to_categorical(y3, num_classes=28)\n",
    "\n",
    "    # 최종 전처리 파일을 만들기 위한 부분으로, 다 만든 이후에는 참고하지 않아도 됨\n",
    "    # 이 코드는 사장됨 : csv 파일의 한계 : 숫자를 문자열로 변환해서 저장하기 때문에, 자료구조를 온전히 보존하지 못한다.\n",
    "\n",
    "    # # 테스트 데이터를 csv 파일로 '따로' 저장 : 전체 데이터 중 훈련 데이터로 지정된 이외의 데이터들만을 가지고 테스트 할 예정\n",
    "    # y_test_t = np.transpose(y_test) # y_test의 전치행렬 형태로 저장 : 원핫 인코딩을 위한 데이터 보정\n",
    "    # df = pd.DataFrame({'name': X_test, 'label': y_test_t})\n",
    "    # df.to_csv(f'printed_test_filelist_saved_{end_idx//50000}.csv', index=False)\n",
    "\n",
    "    # # 훈련 데이터 또한 csv 파일로 '따로' 저장 : 훈련 데이터를 미리 저장하여, 추후의 모델 적용에서 동일한 데이터로\n",
    "    # # 일괄적인 비교가 가능\n",
    "    # df = pd.DataFrame({'name': X_train, 'label': y_train_t})\n",
    "    # df.to_csv(f'printed_train_filelist_saved_{end_idx//50000}.csv', index=False)\n",
    "    \n",
    "    return X_train, X_test, y1_one_hot, y2_one_hot, y3_one_hot, y1_one_hot_test, y2_one_hot_test, y3_one_hot_test"
   ]
  },
  {
   "cell_type": "markdown",
   "metadata": {},
   "source": [
    "### 3. 데이터 전처리 (변수 불러오기)"
   ]
  },
  {
   "cell_type": "code",
   "execution_count": 6,
   "metadata": {},
   "outputs": [
    {
     "data": {
      "text/plain": [
       "['ㄱ',\n",
       " 'ㄲ',\n",
       " 'ㄴ',\n",
       " 'ㄷ',\n",
       " 'ㄸ',\n",
       " 'ㄹ',\n",
       " 'ㅁ',\n",
       " 'ㅂ',\n",
       " 'ㅃ',\n",
       " 'ㅅ',\n",
       " 'ㅆ',\n",
       " 'ㅇ',\n",
       " 'ㅈ',\n",
       " 'ㅉ',\n",
       " 'ㅊ',\n",
       " 'ㅋ',\n",
       " 'ㅌ',\n",
       " 'ㅍ',\n",
       " 'ㅎ',\n",
       " '']"
      ]
     },
     "execution_count": 6,
     "metadata": {},
     "output_type": "execute_result"
    }
   ],
   "source": [
    "# 초/중/종성, 경로 불러오기\n",
    "chosung, jungsung, jongsung, printed_path = get_consonants_and_path()\n",
    "chosung"
   ]
  },
  {
   "cell_type": "code",
   "execution_count": 7,
   "metadata": {},
   "outputs": [
    {
     "data": {
      "text/plain": [
       "[['00000000.png', '0', '15', '17'],\n",
       " ['00000001.png', '7', '11', '21'],\n",
       " ['00000002.png', '17', '11', '25'],\n",
       " ['00000003.png', '9', '3', '5'],\n",
       " ['00000004.png', '11', '18', '5']]"
      ]
     },
     "execution_count": 7,
     "metadata": {},
     "output_type": "execute_result"
    }
   ],
   "source": [
    "# 중간 전처리 파일 불러오기 : 숫자 레이블링 이후\n",
    "new_printed_file_labels = name_and_label_reader('printed_file_labels.csv')\n",
    "new_printed_file_labels[:5]"
   ]
  },
  {
   "cell_type": "code",
   "execution_count": 8,
   "metadata": {},
   "outputs": [
    {
     "data": {
      "text/plain": [
       "532659"
      ]
     },
     "execution_count": 8,
     "metadata": {},
     "output_type": "execute_result"
    }
   ],
   "source": [
    "len(new_printed_file_labels)"
   ]
  },
  {
   "attachments": {},
   "cell_type": "markdown",
   "metadata": {},
   "source": [
    "- 11회 반복 : 532658번 인덱스까지 수행하면 된다"
   ]
  },
  {
   "cell_type": "markdown",
   "metadata": {},
   "source": [
    "## 4. 모델 구축"
   ]
  },
  {
   "attachments": {},
   "cell_type": "markdown",
   "metadata": {},
   "source": [
    "- 필요한 모듈 불러오기"
   ]
  },
  {
   "cell_type": "code",
   "execution_count": 9,
   "metadata": {},
   "outputs": [],
   "source": [
    "from tensorflow.keras.layers import Input, Conv2D, BatchNormalization, Activation, Add, Flatten, Dense, Lambda\n",
    "from tensorflow.keras.models import Model\n",
    "from tensorflow.keras.optimizers import Adam\n",
    "from tensorflow.keras.callbacks import ModelCheckpoint"
   ]
  },
  {
   "cell_type": "code",
   "execution_count": 14,
   "metadata": {},
   "outputs": [],
   "source": [
    "# # 레스넷 모델에 필요한 모델 함수 정의\n",
    "\n",
    "# def residual_block(x, filters, downsample=False):\n",
    "#     shortcut = x\n",
    "    \n",
    "#     # 첫 컨볼루션 레이어\n",
    "#     x = Conv2D(filters, kernel_size=3, strides=1, padding='same')(x)\n",
    "#     x = BatchNormalization()(x)\n",
    "#     x = Activation('relu')(x)\n",
    "    \n",
    "#     # 두번째 컨볼루션 레이어\n",
    "#     x = Conv2D(filters, kernel_size=3, strides=1, padding='same')(x)\n",
    "#     x = BatchNormalization()(x)\n",
    "    \n",
    "#     # 다운샘플링이 필요하다면, 1x1 컨볼루션 레이어에서 수행하기\n",
    "#     # 신경망의 성능을 감소시키지 않고 파라미터의 수를 줄일 것\n",
    "#     if downsample:\n",
    "#         shortcut = Conv2D(filters, kernel_size=1, strides=2, padding='same')(shortcut)\n",
    "    \n",
    "#     # shortcut 더하기 : 잔차 블록의 결과물에 : 기울기 소실 문제 해결의 한 방안\n",
    "#     x = Add()([shortcut, x])\n",
    "#     x = Activation('relu')(x)\n",
    "    \n",
    "#     return x\n",
    "\n",
    "def ResNet(input_shape, num_classes1, num_classes2, num_classes3):\n",
    "\n",
    "    # 인풋의 크기 조정\n",
    "    input_tensor = Input(shape=input_shape)\n",
    "    \n",
    "    # 초기 컨볼루션 레이어\n",
    "    x = Conv2D(64, kernel_size=7, strides=2, padding='same')(input_tensor)\n",
    "    x = BatchNormalization()(x)\n",
    "    x = Activation('relu')(x)\n",
    "    \n",
    "    # 잔차 블록 : 잔차 블록을 지날 때 shape가 틀어지는 문제를 막기 위해서는 stride를 조절해야 함\n",
    "    x = residual_block(x, filters=64)\n",
    "    x = residual_block(x, filters=64)\n",
    "    x = residual_block(x, filters=128, downsample=True)\n",
    "    x = residual_block(x, filters=128)\n",
    "    x = residual_block(x, filters=256, downsample=True)\n",
    "    x = residual_block(x, filters=256)\n",
    "    x = residual_block(x, filters=512, downsample=True)\n",
    "    x = residual_block(x, filters=512)\n",
    "    \n",
    "    # Global average pooling layer\n",
    "    x = Flatten()(x)\n",
    "    \n",
    "    # 우리의 과제 목적에 따라서 세 개의 아웃풋을 설정\n",
    "    output1 = Dense(num_classes1, activation='softmax', name='output1')(x)\n",
    "    output2 = Dense(num_classes2, activation='softmax', name='output2')(x)\n",
    "    output3 = Dense(num_classes3, activation='softmax', name='output3')(x)\n",
    "    \n",
    "    # 모델 구성!\n",
    "    model = Model(inputs=input_tensor, outputs=[output1, output2, output3])\n",
    "    \n",
    "    return model"
   ]
  },
  {
   "cell_type": "code",
   "execution_count": 20,
   "metadata": {},
   "outputs": [],
   "source": [
    "def residual_block(x, filters, downsample=False):\n",
    "    shortcut = x\n",
    "    \n",
    "    # 첫 컨볼루션 레이어\n",
    "    strides = 2 if downsample else 1  # downsampling을 진행할 때 (잔차 블록) stride 조정\n",
    "    x = Conv2D(filters, kernel_size=3, strides=strides, padding='same')(x)\n",
    "    x = BatchNormalization()(x)\n",
    "    x = Activation('relu')(x)\n",
    "    \n",
    "    # 두번째 컨볼루션 레이어\n",
    "    x = Conv2D(filters, kernel_size=3, strides=1, padding='same')(x)\n",
    "    x = BatchNormalization()(x)\n",
    "    \n",
    "    # 다운샘플링이 필요하다면, 1x1 컨볼루션 레이어에서 수행하기\n",
    "    # 신경망의 성능을 감소시키지 않고 파라미터의 수를 줄일 것\n",
    "    if downsample:\n",
    "        shortcut = Conv2D(filters, kernel_size=1, strides=2, padding='same')(shortcut)\n",
    "    \n",
    "    # shortcut 더하기 : 잔차 블록의 결과물에 : 기울기 소실 문제 해결의 한 방안\n",
    "    x = Add()([shortcut, x])\n",
    "    x = Activation('relu')(x)\n",
    "    \n",
    "    return x"
   ]
  },
  {
   "cell_type": "code",
   "execution_count": 10,
   "metadata": {},
   "outputs": [
    {
     "name": "stderr",
     "output_type": "stream",
     "text": [
      "  9%|▉         | 49999/532659 [01:49<17:34, 457.83it/s]\n"
     ]
    }
   ],
   "source": [
    "X_train, X_test, y1_one_hot, y2_one_hot, y3_one_hot, y1_one_hot_test, y2_one_hot_test, y3_one_hot_test = get_printed_data_and_labels(0, 50000)"
   ]
  },
  {
   "cell_type": "code",
   "execution_count": 11,
   "metadata": {},
   "outputs": [
    {
     "data": {
      "text/plain": [
       "0"
      ]
     },
     "execution_count": 11,
     "metadata": {},
     "output_type": "execute_result"
    }
   ],
   "source": [
    "collect()"
   ]
  },
  {
   "cell_type": "code",
   "execution_count": 12,
   "metadata": {},
   "outputs": [
    {
     "name": "stdout",
     "output_type": "stream",
     "text": [
      "Current memory usage: 14.76 GB\n"
     ]
    }
   ],
   "source": [
    "check_memory()"
   ]
  },
  {
   "cell_type": "code",
   "execution_count": 41,
   "metadata": {},
   "outputs": [
    {
     "name": "stdout",
     "output_type": "stream",
     "text": [
      "Epoch 1/10\n",
      "1000/1000 [==============================] - ETA: 0s - loss: 5.1344 - output1_loss: 1.7104 - output2_loss: 1.7572 - output3_loss: 1.6667 - output1_accuracy: 0.5477 - output2_accuracy: 0.5317 - output3_accuracy: 0.6123\n",
      "Epoch 1: val_loss improved from inf to 0.88916, saving model to ResNet_consonants_model.h5\n",
      "1000/1000 [==============================] - 222s 220ms/step - loss: 5.1344 - output1_loss: 1.7104 - output2_loss: 1.7572 - output3_loss: 1.6667 - output1_accuracy: 0.5477 - output2_accuracy: 0.5317 - output3_accuracy: 0.6123 - val_loss: 0.8892 - val_output1_loss: 0.3736 - val_output2_loss: 0.4098 - val_output3_loss: 0.1057 - val_output1_accuracy: 0.8824 - val_output2_accuracy: 0.8610 - val_output3_accuracy: 0.9684\n",
      "Epoch 2/10\n",
      "1000/1000 [==============================] - ETA: 0s - loss: 0.3571 - output1_loss: 0.1087 - output2_loss: 0.1705 - output3_loss: 0.0778 - output1_accuracy: 0.9671 - output2_accuracy: 0.9463 - output3_accuracy: 0.9763\n",
      "Epoch 2: val_loss improved from 0.88916 to 0.36974, saving model to ResNet_consonants_model.h5\n",
      "1000/1000 [==============================] - 224s 224ms/step - loss: 0.3571 - output1_loss: 0.1087 - output2_loss: 0.1705 - output3_loss: 0.0778 - output1_accuracy: 0.9671 - output2_accuracy: 0.9463 - output3_accuracy: 0.9763 - val_loss: 0.3697 - val_output1_loss: 0.1200 - val_output2_loss: 0.1663 - val_output3_loss: 0.0835 - val_output1_accuracy: 0.9635 - val_output2_accuracy: 0.9475 - val_output3_accuracy: 0.9746\n",
      "Epoch 3/10\n",
      "1000/1000 [==============================] - ETA: 0s - loss: 0.1919 - output1_loss: 0.0568 - output2_loss: 0.0919 - output3_loss: 0.0432 - output1_accuracy: 0.9824 - output2_accuracy: 0.9697 - output3_accuracy: 0.9863\n",
      "Epoch 3: val_loss improved from 0.36974 to 0.35848, saving model to ResNet_consonants_model.h5\n",
      "1000/1000 [==============================] - 225s 225ms/step - loss: 0.1919 - output1_loss: 0.0568 - output2_loss: 0.0919 - output3_loss: 0.0432 - output1_accuracy: 0.9824 - output2_accuracy: 0.9697 - output3_accuracy: 0.9863 - val_loss: 0.3585 - val_output1_loss: 0.1836 - val_output2_loss: 0.1235 - val_output3_loss: 0.0514 - val_output1_accuracy: 0.9445 - val_output2_accuracy: 0.9645 - val_output3_accuracy: 0.9840\n",
      "Epoch 4/10\n",
      "1000/1000 [==============================] - ETA: 0s - loss: 0.1314 - output1_loss: 0.0394 - output2_loss: 0.0624 - output3_loss: 0.0296 - output1_accuracy: 0.9881 - output2_accuracy: 0.9810 - output3_accuracy: 0.9908\n",
      "Epoch 4: val_loss improved from 0.35848 to 0.18089, saving model to ResNet_consonants_model.h5\n",
      "1000/1000 [==============================] - 228s 228ms/step - loss: 0.1314 - output1_loss: 0.0394 - output2_loss: 0.0624 - output3_loss: 0.0296 - output1_accuracy: 0.9881 - output2_accuracy: 0.9810 - output3_accuracy: 0.9908 - val_loss: 0.1809 - val_output1_loss: 0.0386 - val_output2_loss: 0.0935 - val_output3_loss: 0.0488 - val_output1_accuracy: 0.9891 - val_output2_accuracy: 0.9740 - val_output3_accuracy: 0.9834\n",
      "Epoch 5/10\n",
      "1000/1000 [==============================] - ETA: 0s - loss: 0.1001 - output1_loss: 0.0327 - output2_loss: 0.0466 - output3_loss: 0.0209 - output1_accuracy: 0.9898 - output2_accuracy: 0.9854 - output3_accuracy: 0.9939\n",
      "Epoch 5: val_loss did not improve from 0.18089\n",
      "1000/1000 [==============================] - 228s 228ms/step - loss: 0.1001 - output1_loss: 0.0327 - output2_loss: 0.0466 - output3_loss: 0.0209 - output1_accuracy: 0.9898 - output2_accuracy: 0.9854 - output3_accuracy: 0.9939 - val_loss: 0.1859 - val_output1_loss: 0.0492 - val_output2_loss: 0.0954 - val_output3_loss: 0.0413 - val_output1_accuracy: 0.9843 - val_output2_accuracy: 0.9724 - val_output3_accuracy: 0.9877\n",
      "Epoch 6/10\n",
      "1000/1000 [==============================] - ETA: 0s - loss: 0.0919 - output1_loss: 0.0277 - output2_loss: 0.0429 - output3_loss: 0.0212 - output1_accuracy: 0.9921 - output2_accuracy: 0.9869 - output3_accuracy: 0.9937\n",
      "Epoch 6: val_loss did not improve from 0.18089\n",
      "1000/1000 [==============================] - 227s 227ms/step - loss: 0.0919 - output1_loss: 0.0277 - output2_loss: 0.0429 - output3_loss: 0.0212 - output1_accuracy: 0.9921 - output2_accuracy: 0.9869 - output3_accuracy: 0.9937 - val_loss: 0.3328 - val_output1_loss: 0.1563 - val_output2_loss: 0.1245 - val_output3_loss: 0.0521 - val_output1_accuracy: 0.9530 - val_output2_accuracy: 0.9665 - val_output3_accuracy: 0.9840\n",
      "Epoch 7/10\n",
      "1000/1000 [==============================] - ETA: 0s - loss: 0.0667 - output1_loss: 0.0205 - output2_loss: 0.0291 - output3_loss: 0.0171 - output1_accuracy: 0.9937 - output2_accuracy: 0.9908 - output3_accuracy: 0.9947\n",
      "Epoch 7: val_loss did not improve from 0.18089\n",
      "1000/1000 [==============================] - 228s 228ms/step - loss: 0.0667 - output1_loss: 0.0205 - output2_loss: 0.0291 - output3_loss: 0.0171 - output1_accuracy: 0.9937 - output2_accuracy: 0.9908 - output3_accuracy: 0.9947 - val_loss: 0.2281 - val_output1_loss: 0.0702 - val_output2_loss: 0.1019 - val_output3_loss: 0.0560 - val_output1_accuracy: 0.9812 - val_output2_accuracy: 0.9730 - val_output3_accuracy: 0.9869\n",
      "Epoch 8/10\n",
      "1000/1000 [==============================] - ETA: 0s - loss: 0.0637 - output1_loss: 0.0175 - output2_loss: 0.0323 - output3_loss: 0.0139 - output1_accuracy: 0.9943 - output2_accuracy: 0.9910 - output3_accuracy: 0.9954\n",
      "Epoch 8: val_loss did not improve from 0.18089\n",
      "1000/1000 [==============================] - 227s 227ms/step - loss: 0.0637 - output1_loss: 0.0175 - output2_loss: 0.0323 - output3_loss: 0.0139 - output1_accuracy: 0.9943 - output2_accuracy: 0.9910 - output3_accuracy: 0.9954 - val_loss: 0.2083 - val_output1_loss: 0.0778 - val_output2_loss: 0.0840 - val_output3_loss: 0.0465 - val_output1_accuracy: 0.9778 - val_output2_accuracy: 0.9772 - val_output3_accuracy: 0.9871\n",
      "Epoch 9/10\n",
      "1000/1000 [==============================] - ETA: 0s - loss: 0.0574 - output1_loss: 0.0185 - output2_loss: 0.0292 - output3_loss: 0.0097 - output1_accuracy: 0.9946 - output2_accuracy: 0.9918 - output3_accuracy: 0.9972\n",
      "Epoch 9: val_loss improved from 0.18089 to 0.16139, saving model to ResNet_consonants_model.h5\n",
      "1000/1000 [==============================] - 229s 229ms/step - loss: 0.0574 - output1_loss: 0.0185 - output2_loss: 0.0292 - output3_loss: 0.0097 - output1_accuracy: 0.9946 - output2_accuracy: 0.9918 - output3_accuracy: 0.9972 - val_loss: 0.1614 - val_output1_loss: 0.0549 - val_output2_loss: 0.0714 - val_output3_loss: 0.0351 - val_output1_accuracy: 0.9868 - val_output2_accuracy: 0.9819 - val_output3_accuracy: 0.9908\n",
      "Epoch 10/10\n",
      "1000/1000 [==============================] - ETA: 0s - loss: 0.0444 - output1_loss: 0.0151 - output2_loss: 0.0207 - output3_loss: 0.0086 - output1_accuracy: 0.9956 - output2_accuracy: 0.9939 - output3_accuracy: 0.9972\n",
      "Epoch 10: val_loss improved from 0.16139 to 0.12074, saving model to ResNet_consonants_model.h5\n",
      "1000/1000 [==============================] - 229s 229ms/step - loss: 0.0444 - output1_loss: 0.0151 - output2_loss: 0.0207 - output3_loss: 0.0086 - output1_accuracy: 0.9956 - output2_accuracy: 0.9939 - output3_accuracy: 0.9972 - val_loss: 0.1207 - val_output1_loss: 0.0310 - val_output2_loss: 0.0591 - val_output3_loss: 0.0307 - val_output1_accuracy: 0.9916 - val_output2_accuracy: 0.9860 - val_output3_accuracy: 0.9912\n"
     ]
    }
   ],
   "source": [
    "# 모델 정의\n",
    "input_shape = (128, 128, 3)\n",
    "model = ResNet(input_shape, len(chosung), len(jungsung), len(jongsung))\n",
    "\n",
    "# 모델 컴파일링\n",
    "metrics = ['accuracy']\n",
    "optimizer = Adam(lr=0.001)\n",
    "model.compile(loss='categorical_crossentropy', optimizer=optimizer, metrics=metrics)\n",
    "\n",
    "# 콜백 함수 규정\n",
    "checkpoint = ModelCheckpoint('ResNet_consonants_model.h5', monitor='val_loss', verbose=2, save_best_only=True, save_weights_only=False, mode='min')\n",
    "\n",
    "# 모델 훈련\n",
    "batch_size = 32\n",
    "epochs = 10\n",
    "history = model.fit(X_train, [y1_one_hot, y2_one_hot, y3_one_hot], batch_size=batch_size, epochs=epochs, validation_split=0.2, callbacks=[checkpoint])"
   ]
  },
  {
   "cell_type": "code",
   "execution_count": 43,
   "metadata": {},
   "outputs": [],
   "source": [
    "# # 모든 인쇄체 데이터를 전처리하여 csv 파일로 저장하는 코드\n",
    "\n",
    "# # 11회 반복 : 532658 인덱스까지\n",
    "# for i in tqdm(range(11)):\n",
    "#     start_idx = i * 50000\n",
    "#     end_idx = start_idx + 50000\n",
    "#     X_train, X_test, y1_one_hot, y2_one_hot, y3_one_hot, y1_one_hot_test, y2_one_hot_test, y3_one_hot_test = get_printed_data_and_labels(start_idx, end_idx)\n",
    "#     del X_train, X_test, y1_one_hot, y2_one_hot, y3_one_hot, y1_one_hot_test, y2_one_hot_test, y3_one_hot_test\n",
    "#     check_memory()\n",
    "#     collect()"
   ]
  },
  {
   "cell_type": "markdown",
   "metadata": {},
   "source": [
    "- 40000개의 데이터 세트로 학습을 시켰는데 기존보다 5%정도 높은 정확도를 보이고 있음\n",
    "- 평가 단계에서의 성적까지 좋다면.... ResNet을 써야 할 듯 하다"
   ]
  },
  {
   "attachments": {},
   "cell_type": "markdown",
   "metadata": {},
   "source": [
    "## 5. 평가"
   ]
  },
  {
   "cell_type": "code",
   "execution_count": 13,
   "metadata": {},
   "outputs": [
    {
     "data": {
      "text/plain": [
       "0"
      ]
     },
     "execution_count": 13,
     "metadata": {},
     "output_type": "execute_result"
    }
   ],
   "source": [
    "collect()"
   ]
  },
  {
   "cell_type": "code",
   "execution_count": 14,
   "metadata": {},
   "outputs": [
    {
     "name": "stdout",
     "output_type": "stream",
     "text": [
      "Current memory usage: 14.74 GB\n"
     ]
    }
   ],
   "source": [
    "check_memory()"
   ]
  },
  {
   "cell_type": "code",
   "execution_count": 15,
   "metadata": {},
   "outputs": [],
   "source": [
    "from tensorflow.keras.models import load_model\n",
    "model = load_model('ResNet_consonants_model.h5')"
   ]
  },
  {
   "cell_type": "code",
   "execution_count": 16,
   "metadata": {},
   "outputs": [
    {
     "name": "stdout",
     "output_type": "stream",
     "text": [
      "313/313 [==============================] - 27s 70ms/step - loss: 0.1320 - output1_loss: 0.0325 - output2_loss: 0.0621 - output3_loss: 0.0373 - output1_accuracy: 0.9917 - output2_accuracy: 0.9848 - output3_accuracy: 0.9904\n",
      "Test accuracy 1: : 99.17%\n",
      "Test accuracy 2: : 98.48%\n",
      "Test accuracy 3: : 99.04%\n"
     ]
    }
   ],
   "source": [
    "# 모델 평가 단계!!\n",
    "\n",
    "scores = model.evaluate(X_test, [y1_one_hot_test, y2_one_hot_test, y3_one_hot_test])\n",
    "print('%s : %.2f%%'%('Test accuracy 1:', scores[4]*100))\n",
    "print('%s : %.2f%%'%('Test accuracy 2:', scores[5]*100))\n",
    "print('%s : %.2f%%'%('Test accuracy 3:', scores[6]*100))"
   ]
  },
  {
   "cell_type": "code",
   "execution_count": 22,
   "metadata": {},
   "outputs": [
    {
     "name": "stdout",
     "output_type": "stream",
     "text": [
      "앙\n",
      "갂\n",
      "하\n"
     ]
    }
   ],
   "source": [
    "# 초성/중성/종성을 결합하는 함수\n",
    "def combine_consonants(start, middle, final):\n",
    "    # 한글 유니코드 계산 (받침이 없는 경우)\n",
    "    no_final = 44032 + (chosung.index(start) * 21 + jungsung.index(middle)) * 28\n",
    "    if final != '':\n",
    "        # 받침이 있다면 종성 부분을 더해주기\n",
    "        yes_final = no_final + jongsung.index(final) + 1\n",
    "        # 받침이 있다면 계산된 버전을 도출\n",
    "        return chr(yes_final)\n",
    "    # 받침이 없는 경우에는 그대로 도출\n",
    "    else:\n",
    "        return chr(no_final)\n",
    "\n",
    "# 함수 테스트\n",
    "print(combine_consonants('ㅇ', 'ㅏ', 'ㅇ'))  # 앙\n",
    "print(combine_consonants('ㄱ', 'ㅏ', 'ㄲ'))  # 갂\n",
    "print(combine_consonants('ㅎ', 'ㅏ', ''))   # 하"
   ]
  },
  {
   "cell_type": "code",
   "execution_count": 25,
   "metadata": {},
   "outputs": [],
   "source": [
    "# 이미지를 하나 넣으면 초/중/종성을 도출하는 함수\n",
    "\n",
    "def draw_Hangul_consonants(path_to_image, path_to_model):\n",
    "\n",
    "    # 초성, 중성, 종성 세팅\n",
    "    chosung = ['ㄱ', 'ㄲ', 'ㄴ', 'ㄷ', 'ㄸ', 'ㄹ', 'ㅁ', 'ㅂ', 'ㅃ', 'ㅅ', 'ㅆ', 'ㅇ', 'ㅈ', 'ㅉ', 'ㅊ', 'ㅋ', 'ㅌ', 'ㅍ', 'ㅎ', '']\n",
    "    jungsung = ['ㅏ', 'ㅐ', 'ㅑ', 'ㅒ', 'ㅓ', 'ㅔ', 'ㅕ', 'ㅖ', 'ㅗ', 'ㅘ', 'ㅙ', 'ㅚ', 'ㅛ', 'ㅜ', 'ㅝ', 'ㅞ', 'ㅟ', 'ㅠ', 'ㅡ', 'ㅢ', 'ㅣ', '']\n",
    "    jongsung = ['ㄱ', 'ㄲ', 'ㄳ', 'ㄴ', 'ㄵ', 'ㄶ', 'ㄷ', 'ㄹ', 'ㄺ', 'ㄻ', 'ㄼ', 'ㄽ', 'ㄾ', 'ㄿ', 'ㅀ', 'ㅁ', 'ㅂ', 'ㅄ', 'ㅅ', 'ㅆ', 'ㅇ', 'ㅈ', 'ㅊ', 'ㅋ', 'ㅌ', 'ㅍ', 'ㅎ', '']\n",
    "\n",
    "    # 모델 불러오기\n",
    "    model = tf.keras.models.load_model(path_to_model)\n",
    "\n",
    "    # 이미지 변환\n",
    "    # 이미지 열기\n",
    "    image = Image.open(path_to_image)\n",
    "\n",
    "    # 이미지 재조정\n",
    "    image = image.resize((128, 128))\n",
    "\n",
    "    # 넘파이 배열로 이미지 변환\n",
    "    image_array = np.asarray(image)\n",
    "\n",
    "    # 픽셀값 표준화\n",
    "    image_array = [image_array.astype('float32') / 255.0]\n",
    "\n",
    "\n",
    "    # 리스트를 다시 넘파이 배열로 변환 : 이미지만 변환해서 도출\n",
    "    X = np.array(image_array)\n",
    "\n",
    "    # 모델 예측\n",
    "    prediction = model.predict(X)\n",
    "\n",
    "    # 정답이 모여있는 리스트 만들기\n",
    "    answers = []\n",
    "\n",
    "    max_index_1 = np.argmax(prediction[0][0])\n",
    "    max_index_2 = np.argmax(prediction[1][0])\n",
    "    max_index_3 = np.argmax(prediction[2][0])\n",
    "    \n",
    "    # 하나로 묶기 / 초성, 중성, 종성값으로 변환\n",
    "    temp = [chosung[max_index_1], jungsung[max_index_2], jongsung[max_index_3]]\n",
    "    \n",
    "    # 답안지에 넣기\n",
    "    answers.append(temp)\n",
    "\n",
    "    # 둘 중 하나의 디렉토리로 지정되도록 코드 구성\n",
    "    picked_image = Image.open(path_to_image)\n",
    "\n",
    "    # 정답과 이미지 보여주기\n",
    "    print(f'예측 답안: {combine_consonants(*answers[0])}')\n",
    "\n",
    "    display(picked_image)\n",
    "\n",
    "    return answers"
   ]
  },
  {
   "cell_type": "code",
   "execution_count": 26,
   "metadata": {},
   "outputs": [
    {
     "name": "stdout",
     "output_type": "stream",
     "text": [
      "1/1 [==============================] - 0s 206ms/step\n",
      "예측 답안: 웋\n"
     ]
    },
    {
     "data": {
      "image/png": "[encoded data removed]",
      "text/plain": [
       "<PIL.PngImagePlugin.PngImageFile image mode=RGB size=181x194>"
      ]
     },
     "metadata": {},
     "output_type": "display_data"
    }
   ],
   "source": [
    "# 이미지를 하나 넣기\n",
    "import os\n",
    "\n",
    "image_path = 'D:\\yoon_data\\korean_consonant_project\\Korean_letters\\handwritten\\syllable_02\\\\01154647.png'\n",
    "model_path = \"C:\\\\Users\\\\jihyu\\\\OneDrive\\\\문서\\\\ds_study\\\\ResNet_consonants_model.h5\"\n",
    "\n",
    "answers = draw_Hangul_consonants(image_path, model_path)[0]"
   ]
  },
  {
   "cell_type": "code",
   "execution_count": 27,
   "metadata": {},
   "outputs": [
    {
     "name": "stdout",
     "output_type": "stream",
     "text": [
      "1/1 [==============================] - 0s 207ms/step\n",
      "예측 답안: 쎱\n"
     ]
    },
    {
     "data": {
      "image/png": "[encoded data removed]",
      "text/plain": [
       "<PIL.PngImagePlugin.PngImageFile image mode=RGB size=173x193>"
      ]
     },
     "metadata": {},
     "output_type": "display_data"
    }
   ],
   "source": [
    "image_path = 'D:\\yoon_data\\korean_consonant_project\\Korean_letters\\handwritten\\syllable_01\\\\00085508.png'\n",
    "answers = draw_Hangul_consonants(image_path, model_path)[0]"
   ]
  }
 ],
 "metadata": {
  "kernelspec": {
   "display_name": "ds_study",
   "language": "python",
   "name": "python3"
  },
  "language_info": {
   "codemirror_mode": {
    "name": "ipython",
    "version": 3
   },
   "file_extension": ".py",
   "mimetype": "text/x-python",
   "name": "python",
   "nbconvert_exporter": "python",
   "pygments_lexer": "ipython3",
   "version": "3.10.9"
  },
  "orig_nbformat": 4
 },
 "nbformat": 4,
 "nbformat_minor": 2
}
